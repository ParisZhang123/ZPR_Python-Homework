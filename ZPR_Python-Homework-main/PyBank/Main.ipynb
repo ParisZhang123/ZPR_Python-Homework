{
 "cells": [
  {
   "cell_type": "code",
   "execution_count": 2,
   "id": "9f95b1e9-25c1-4350-86f2-31b32a6b2112",
   "metadata": {},
   "outputs": [],
   "source": [
    "import pandas as pd"
   ]
  },
  {
   "cell_type": "code",
   "execution_count": 3,
   "id": "d052fe8d-acc2-43bf-90c1-0a281b90d6d3",
   "metadata": {},
   "outputs": [],
   "source": [
    "from pathlib import Path"
   ]
  },
  {
   "cell_type": "code",
   "execution_count": 7,
   "id": "4ae06290-4e3c-4e59-8265-d34268a8bfb5",
   "metadata": {},
   "outputs": [
    {
     "data": {
      "text/html": [
       "<div>\n",
       "<style scoped>\n",
       "    .dataframe tbody tr th:only-of-type {\n",
       "        vertical-align: middle;\n",
       "    }\n",
       "\n",
       "    .dataframe tbody tr th {\n",
       "        vertical-align: top;\n",
       "    }\n",
       "\n",
       "    .dataframe thead th {\n",
       "        text-align: right;\n",
       "    }\n",
       "</style>\n",
       "<table border=\"1\" class=\"dataframe\">\n",
       "  <thead>\n",
       "    <tr style=\"text-align: right;\">\n",
       "      <th></th>\n",
       "      <th>Date</th>\n",
       "      <th>Profit/Losses</th>\n",
       "    </tr>\n",
       "  </thead>\n",
       "  <tbody>\n",
       "    <tr>\n",
       "      <th>0</th>\n",
       "      <td>Jan-2010</td>\n",
       "      <td>867884</td>\n",
       "    </tr>\n",
       "    <tr>\n",
       "      <th>1</th>\n",
       "      <td>Feb-2010</td>\n",
       "      <td>984655</td>\n",
       "    </tr>\n",
       "    <tr>\n",
       "      <th>2</th>\n",
       "      <td>Mar-2010</td>\n",
       "      <td>322013</td>\n",
       "    </tr>\n",
       "    <tr>\n",
       "      <th>3</th>\n",
       "      <td>Apr-2010</td>\n",
       "      <td>-69417</td>\n",
       "    </tr>\n",
       "    <tr>\n",
       "      <th>4</th>\n",
       "      <td>May-2010</td>\n",
       "      <td>310503</td>\n",
       "    </tr>\n",
       "  </tbody>\n",
       "</table>\n",
       "</div>"
      ],
      "text/plain": [
       "       Date  Profit/Losses\n",
       "0  Jan-2010         867884\n",
       "1  Feb-2010         984655\n",
       "2  Mar-2010         322013\n",
       "3  Apr-2010         -69417\n",
       "4  May-2010         310503"
      ]
     },
     "execution_count": 7,
     "metadata": {},
     "output_type": "execute_result"
    }
   ],
   "source": [
    "csvpath=Path('budget_data.csv')\n",
    "Pybank=pd.read_csv(csvpath)\n",
    "Pybank.head()"
   ]
  },
  {
   "cell_type": "code",
   "execution_count": 13,
   "id": "ceec5fe0-29c0-4d0e-a117-8a34337fcea3",
   "metadata": {},
   "outputs": [
    {
     "name": "stdout",
     "output_type": "stream",
     "text": [
      "Total number of months is: 86\n"
     ]
    }
   ],
   "source": [
    "#The total number of months included in the dataset.\n",
    "Total_number_of_months=Pybank['Profit/Losses'].count()\n",
    "print('Total number of months is:', Total_number_of_months)"
   ]
  },
  {
   "cell_type": "code",
   "execution_count": 25,
   "id": "d1c93f51-8c29-4fcc-80e0-e252edb2180d",
   "metadata": {},
   "outputs": [
    {
     "name": "stdout",
     "output_type": "stream",
     "text": [
      "Net total amount of profit/losses is:$38382578\n"
     ]
    }
   ],
   "source": [
    "#The net total amount of Profit/Losses over the entire period.\n",
    "Net_PnL=Pybank['Profit/Losses'].sum()\n",
    "print(f'Net total amount of profit/losses is:${Net_PnL}')"
   ]
  },
  {
   "cell_type": "code",
   "execution_count": 26,
   "id": "5629b5e5-8b06-4ba5-b8ab-2750c025f3b8",
   "metadata": {},
   "outputs": [
    {
     "data": {
      "text/plain": [
       "446309.0465116279"
      ]
     },
     "execution_count": 26,
     "metadata": {},
     "output_type": "execute_result"
    }
   ],
   "source": [
    "#The average of the changes in Profit/Losses over the entire period.\n",
    "Pybank['Profit/Losses'].mean()"
   ]
  },
  {
   "cell_type": "code",
   "execution_count": 27,
   "id": "294b2fbf-a8b8-4860-bddc-dd95801e7f0e",
   "metadata": {},
   "outputs": [
    {
     "data": {
      "text/html": [
       "<div>\n",
       "<style scoped>\n",
       "    .dataframe tbody tr th:only-of-type {\n",
       "        vertical-align: middle;\n",
       "    }\n",
       "\n",
       "    .dataframe tbody tr th {\n",
       "        vertical-align: top;\n",
       "    }\n",
       "\n",
       "    .dataframe thead th {\n",
       "        text-align: right;\n",
       "    }\n",
       "</style>\n",
       "<table border=\"1\" class=\"dataframe\">\n",
       "  <thead>\n",
       "    <tr style=\"text-align: right;\">\n",
       "      <th></th>\n",
       "      <th>Date</th>\n",
       "      <th>Profit/Losses</th>\n",
       "      <th>Changes</th>\n",
       "    </tr>\n",
       "  </thead>\n",
       "  <tbody>\n",
       "    <tr>\n",
       "      <th>0</th>\n",
       "      <td>Jan-2010</td>\n",
       "      <td>867884</td>\n",
       "      <td>NaN</td>\n",
       "    </tr>\n",
       "    <tr>\n",
       "      <th>1</th>\n",
       "      <td>Feb-2010</td>\n",
       "      <td>984655</td>\n",
       "      <td>116771.0</td>\n",
       "    </tr>\n",
       "    <tr>\n",
       "      <th>2</th>\n",
       "      <td>Mar-2010</td>\n",
       "      <td>322013</td>\n",
       "      <td>-662642.0</td>\n",
       "    </tr>\n",
       "    <tr>\n",
       "      <th>3</th>\n",
       "      <td>Apr-2010</td>\n",
       "      <td>-69417</td>\n",
       "      <td>-391430.0</td>\n",
       "    </tr>\n",
       "    <tr>\n",
       "      <th>4</th>\n",
       "      <td>May-2010</td>\n",
       "      <td>310503</td>\n",
       "      <td>379920.0</td>\n",
       "    </tr>\n",
       "    <tr>\n",
       "      <th>...</th>\n",
       "      <td>...</td>\n",
       "      <td>...</td>\n",
       "      <td>...</td>\n",
       "    </tr>\n",
       "    <tr>\n",
       "      <th>81</th>\n",
       "      <td>Oct-2016</td>\n",
       "      <td>102685</td>\n",
       "      <td>-665765.0</td>\n",
       "    </tr>\n",
       "    <tr>\n",
       "      <th>82</th>\n",
       "      <td>Nov-2016</td>\n",
       "      <td>795914</td>\n",
       "      <td>693229.0</td>\n",
       "    </tr>\n",
       "    <tr>\n",
       "      <th>83</th>\n",
       "      <td>Dec-2016</td>\n",
       "      <td>60988</td>\n",
       "      <td>-734926.0</td>\n",
       "    </tr>\n",
       "    <tr>\n",
       "      <th>84</th>\n",
       "      <td>Jan-2017</td>\n",
       "      <td>138230</td>\n",
       "      <td>77242.0</td>\n",
       "    </tr>\n",
       "    <tr>\n",
       "      <th>85</th>\n",
       "      <td>Feb-2017</td>\n",
       "      <td>671099</td>\n",
       "      <td>532869.0</td>\n",
       "    </tr>\n",
       "  </tbody>\n",
       "</table>\n",
       "<p>86 rows × 3 columns</p>\n",
       "</div>"
      ],
      "text/plain": [
       "        Date  Profit/Losses   Changes\n",
       "0   Jan-2010         867884       NaN\n",
       "1   Feb-2010         984655  116771.0\n",
       "2   Mar-2010         322013 -662642.0\n",
       "3   Apr-2010         -69417 -391430.0\n",
       "4   May-2010         310503  379920.0\n",
       "..       ...            ...       ...\n",
       "81  Oct-2016         102685 -665765.0\n",
       "82  Nov-2016         795914  693229.0\n",
       "83  Dec-2016          60988 -734926.0\n",
       "84  Jan-2017         138230   77242.0\n",
       "85  Feb-2017         671099  532869.0\n",
       "\n",
       "[86 rows x 3 columns]"
      ]
     },
     "execution_count": 27,
     "metadata": {},
     "output_type": "execute_result"
    }
   ],
   "source": [
    "Pybank['Changes']=Pybank['Profit/Losses']-Pybank['Profit/Losses'].shift()\n",
    "Pybank"
   ]
  },
  {
   "cell_type": "code",
   "execution_count": 31,
   "id": "5532b00c-6659-4c29-a125-0444d1d6f4c3",
   "metadata": {},
   "outputs": [
    {
     "name": "stdout",
     "output_type": "stream",
     "text": [
      "Average Change : $ -2315.1176470588234\n"
     ]
    }
   ],
   "source": [
    "Average_Changes=Pybank['Changes'].mean()\n",
    "print(f'Average Change : $ {Average_Changes}')"
   ]
  },
  {
   "cell_type": "code",
   "execution_count": 35,
   "id": "1b491756-a903-4238-8762-ac149827bafe",
   "metadata": {},
   "outputs": [
    {
     "name": "stdout",
     "output_type": "stream",
     "text": [
      "Greatest Increase in Profit:Feb-2012 ($1926159.0)\n"
     ]
    }
   ],
   "source": [
    "#The greatest increase in profits (date and amount) over the entire period.\n",
    "Greatest_Increase=Pybank['Changes'].max()\n",
    "print(f'Greatest Increase in Profit:Feb-2012 (${Greatest_Increase})')"
   ]
  },
  {
   "cell_type": "code",
   "execution_count": 34,
   "id": "12930c65-9972-4db2-bb67-dcd3838fcb6b",
   "metadata": {},
   "outputs": [
    {
     "name": "stdout",
     "output_type": "stream",
     "text": [
      "Greatest Decrease in Profit: Sep-2013 ($-2196167.0)\n"
     ]
    }
   ],
   "source": [
    "#The greatest decrease in losses (date and amount) over the entire period.\n",
    "Greatest_Decrease=Pybank['Changes'].min()\n",
    "print(f'Greatest Decrease in Profit: Sep-2013 (${Greatest_Decrease})')"
   ]
  },
  {
   "cell_type": "code",
   "execution_count": 36,
   "id": "8cd8fc53-b209-47b8-9458-a7fe115692e8",
   "metadata": {},
   "outputs": [
    {
     "name": "stdout",
     "output_type": "stream",
     "text": [
      "Financial Analysis\n",
      "----------------------\n",
      "Total number of months is: 86\n",
      "Net total amount of profit/losses is:$38382578\n",
      "Average Change : $ -2315.1176470588234\n",
      "Greatest Increase in Profit:Feb-2012 ($1926159.0)\n",
      "Greatest Decrease in Profit: Sep-2013 ($-2196167.0)\n"
     ]
    }
   ],
   "source": [
    "print(\"Financial Analysis\")\n",
    "print(\"----------------------\")\n",
    "print('Total number of months is:', Total_number_of_months)\n",
    "print(f'Net total amount of profit/losses is:${Net_PnL}')\n",
    "print(f'Average Change : $ {Average_Changes}')\n",
    "print(f'Greatest Increase in Profit:Feb-2012 (${Greatest_Increase})')\n",
    "print(f'Greatest Decrease in Profit: Sep-2013 (${Greatest_Decrease})')"
   ]
  },
  {
   "cell_type": "code",
   "execution_count": null,
   "id": "4b2451bd-dbec-4aa3-98bf-cdec2ad273b0",
   "metadata": {},
   "outputs": [],
   "source": []
  },
  {
   "cell_type": "code",
   "execution_count": null,
   "id": "90f4136b-1179-412d-a3f0-ec00040b83ca",
   "metadata": {},
   "outputs": [],
   "source": []
  },
  {
   "cell_type": "code",
   "execution_count": null,
   "id": "966d111f-9425-461e-a90c-e89077a48b98",
   "metadata": {},
   "outputs": [],
   "source": []
  }
 ],
 "metadata": {
  "kernelspec": {
   "display_name": "dev",
   "language": "python",
   "name": "dev"
  },
  "language_info": {
   "codemirror_mode": {
    "name": "ipython",
    "version": 3
   },
   "file_extension": ".py",
   "mimetype": "text/x-python",
   "name": "python",
   "nbconvert_exporter": "python",
   "pygments_lexer": "ipython3",
   "version": "3.9.4"
  }
 },
 "nbformat": 4,
 "nbformat_minor": 5
}
